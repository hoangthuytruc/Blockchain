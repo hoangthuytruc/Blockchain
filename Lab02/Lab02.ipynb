{
  "nbformat": 4,
  "nbformat_minor": 0,
  "metadata": {
    "colab": {
      "provenance": [],
      "toc_visible": true
    },
    "kernelspec": {
      "name": "python3",
      "display_name": "Python 3"
    },
    "language_info": {
      "name": "python"
    }
  },
  "cells": [
    {
      "cell_type": "code",
      "source": [
        "# install bitcoin lib\n",
        "!pip3 install bitcoin-utils"
      ],
      "metadata": {
        "colab": {
          "base_uri": "https://localhost:8080/"
        },
        "id": "BniSfnWjnump",
        "outputId": "d365cb02-fe1b-4a13-e32f-1cd03d6d0a91"
      },
      "execution_count": 1,
      "outputs": [
        {
          "output_type": "stream",
          "name": "stdout",
          "text": [
            "Collecting bitcoin-utils\n",
            "  Downloading bitcoin_utils-0.6.4-py3-none-any.whl (75 kB)\n",
            "\u001b[2K     \u001b[90m━━━━━━━━━━━━━━━━━━━━━━━━━━━━━━━━━━━━━━━━\u001b[0m \u001b[32m75.2/75.2 kB\u001b[0m \u001b[31m1.8 MB/s\u001b[0m eta \u001b[36m0:00:00\u001b[0m\n",
            "\u001b[?25hCollecting base58check<2.0,>=1.0.2 (from bitcoin-utils)\n",
            "  Downloading base58check-1.0.2-py2.py3-none-any.whl (6.0 kB)\n",
            "Collecting ecdsa==0.17.0 (from bitcoin-utils)\n",
            "  Downloading ecdsa-0.17.0-py2.py3-none-any.whl (119 kB)\n",
            "\u001b[2K     \u001b[90m━━━━━━━━━━━━━━━━━━━━━━━━━━━━━━━━━━━━━━━━\u001b[0m \u001b[32m119.3/119.3 kB\u001b[0m \u001b[31m5.2 MB/s\u001b[0m eta \u001b[36m0:00:00\u001b[0m\n",
            "\u001b[?25hCollecting hdwallet==2.2.1 (from bitcoin-utils)\n",
            "  Downloading hdwallet-2.2.1-py3-none-any.whl (71 kB)\n",
            "\u001b[2K     \u001b[90m━━━━━━━━━━━━━━━━━━━━━━━━━━━━━━━━━━━━━━━━\u001b[0m \u001b[32m71.3/71.3 kB\u001b[0m \u001b[31m6.1 MB/s\u001b[0m eta \u001b[36m0:00:00\u001b[0m\n",
            "\u001b[?25hCollecting python-bitcoinrpc<2.0,>=1.0 (from bitcoin-utils)\n",
            "  Downloading python-bitcoinrpc-1.0.tar.gz (13 kB)\n",
            "  Preparing metadata (setup.py) ... \u001b[?25l\u001b[?25hdone\n",
            "Requirement already satisfied: sympy<2.0,>=1.2 in /usr/local/lib/python3.10/dist-packages (from bitcoin-utils) (1.12)\n",
            "Requirement already satisfied: six>=1.9.0 in /usr/local/lib/python3.10/dist-packages (from ecdsa==0.17.0->bitcoin-utils) (1.16.0)\n",
            "Collecting mnemonic<1,>=0.19 (from hdwallet==2.2.1->bitcoin-utils)\n",
            "  Downloading mnemonic-0.20-py3-none-any.whl (62 kB)\n",
            "\u001b[2K     \u001b[90m━━━━━━━━━━━━━━━━━━━━━━━━━━━━━━━━━━━━━━━━\u001b[0m \u001b[32m62.0/62.0 kB\u001b[0m \u001b[31m5.6 MB/s\u001b[0m eta \u001b[36m0:00:00\u001b[0m\n",
            "\u001b[?25hCollecting pycryptodome<4,>=3.15 (from hdwallet==2.2.1->bitcoin-utils)\n",
            "  Downloading pycryptodome-3.19.1-cp35-abi3-manylinux_2_17_x86_64.manylinux2014_x86_64.whl (2.1 MB)\n",
            "\u001b[2K     \u001b[90m━━━━━━━━━━━━━━━━━━━━━━━━━━━━━━━━━━━━━━━━\u001b[0m \u001b[32m2.1/2.1 MB\u001b[0m \u001b[31m9.4 MB/s\u001b[0m eta \u001b[36m0:00:00\u001b[0m\n",
            "\u001b[?25hCollecting base58<3,>=2.0.1 (from hdwallet==2.2.1->bitcoin-utils)\n",
            "  Downloading base58-2.1.1-py3-none-any.whl (5.6 kB)\n",
            "Requirement already satisfied: mpmath>=0.19 in /usr/local/lib/python3.10/dist-packages (from sympy<2.0,>=1.2->bitcoin-utils) (1.3.0)\n",
            "Building wheels for collected packages: python-bitcoinrpc\n",
            "  Building wheel for python-bitcoinrpc (setup.py) ... \u001b[?25l\u001b[?25hdone\n",
            "  Created wheel for python-bitcoinrpc: filename=python_bitcoinrpc-1.0-py3-none-any.whl size=14240 sha256=59380392c287db234878fa80a97d843f6854a20e96c05658d8ab17ae6a991dfc\n",
            "  Stored in directory: /root/.cache/pip/wheels/58/8b/b6/bebc1e5b1eec4ee482d7eb8ea17fd133ce8db6c23d0c8b066b\n",
            "Successfully built python-bitcoinrpc\n",
            "Installing collected packages: python-bitcoinrpc, base58check, pycryptodome, mnemonic, ecdsa, base58, hdwallet, bitcoin-utils\n",
            "Successfully installed base58-2.1.1 base58check-1.0.2 bitcoin-utils-0.6.4 ecdsa-0.17.0 hdwallet-2.2.1 mnemonic-0.20 pycryptodome-3.19.1 python-bitcoinrpc-1.0\n",
            "Collecting python-bitcoinlib\n",
            "  Downloading python_bitcoinlib-0.12.2-py3-none-any.whl (106 kB)\n",
            "\u001b[2K     \u001b[90m━━━━━━━━━━━━━━━━━━━━━━━━━━━━━━━━━━━━━━━━\u001b[0m \u001b[32m107.0/107.0 kB\u001b[0m \u001b[31m2.3 MB/s\u001b[0m eta \u001b[36m0:00:00\u001b[0m\n",
            "\u001b[?25hInstalling collected packages: python-bitcoinlib\n",
            "Successfully installed python-bitcoinlib-0.12.2\n"
          ]
        }
      ]
    },
    {
      "cell_type": "markdown",
      "source": [
        "# Task 1: Basic script execution\n",
        "- The sender's address:\n",
        "  - Private key: cTcXHR9mpY3Yh1XwQaGrrFRRpYR1XqPGNTb2PjMpPQ84kkafLyRN\n",
        "  - Public key: 032f0d9e099d17b67c4bf4aaf4704ab99693177d26c7e4c598705e442836340327\n",
        "  - Bitcoin address: mr3q9zULfWJktFDZMgpkTCa5ra9vJDdcJ4\n",
        "\n",
        "- The recipient's address:\n",
        "  - Private key: cS6t9sbsL9cTPwpdK1oX3FazLeTJBGwfXftVgbggNNha8QE6YbAK\n",
        "  - Public key: 022752417ad3c5aa69b0e1b19cbd388d86dfdbf79a102235741e60665d13a01786\n",
        "  - Bitcoin address: mtEKiuN1sf5sENSsCHcfAdQhJXsUxGj1vr\n",
        "\n",
        "- The previous transaction identifier (txid): cc7fa05421d61b7a8948cc0e1115b15f2b8692f3fbec11d5b0ead711343d8c01"
      ],
      "metadata": {
        "id": "N77PVN72JALH"
      }
    },
    {
      "cell_type": "code",
      "source": [
        "import os\n",
        "from bitcoinutils.setup import setup\n",
        "from bitcoinutils.keys import P2pkhAddress, PrivateKey, PublicKey"
      ],
      "metadata": {
        "id": "4_4Kn3UZzN8I"
      },
      "execution_count": 2,
      "outputs": []
    },
    {
      "cell_type": "code",
      "source": [
        "#setup the network\n",
        "setup('testnet')\n",
        "\n",
        "# Generate a random private key\n",
        "#private_key = PrivateKey.from_bytes(os.urandom(32))\n",
        "private_key = PrivateKey.from_wif(\"cTcXHR9mpY3Yh1XwQaGrrFRRpYR1XqPGNTb2PjMpPQ84kkafLyRN\")\n",
        "\n",
        "# get the public key\n",
        "public_key = private_key.get_public_key()\n",
        "\n",
        "# get address from public key\n",
        "address = public_key.get_address()\n",
        "\n",
        "# print address and hash160\n",
        "print(\"Private Key:\", private_key.to_wif())\n",
        "print(\"Public Key:\", public_key.to_hex())\n",
        "print(\"Bitcoin Address:\", address.to_string())\n"
      ],
      "metadata": {
        "colab": {
          "base_uri": "https://localhost:8080/"
        },
        "id": "-Gn9gDQOvChO",
        "outputId": "08b52b11-cdd6-4b5a-9cf0-2eeb209f6270"
      },
      "execution_count": null,
      "outputs": [
        {
          "output_type": "stream",
          "name": "stdout",
          "text": [
            "Private Key: cTcXHR9mpY3Yh1XwQaGrrFRRpYR1XqPGNTb2PjMpPQ84kkafLyRN\n",
            "Public Key: 032f0d9e099d17b67c4bf4aaf4704ab99693177d26c7e4c598705e442836340327\n",
            "Bitcoin Address: mr3q9zULfWJktFDZMgpkTCa5ra9vJDdcJ4\n"
          ]
        }
      ]
    },
    {
      "cell_type": "code",
      "source": [
        "from bitcoinutils.utils import to_satoshis\n",
        "from bitcoinutils.transactions import Transaction, TxInput, TxOutput\n",
        "from bitcoinutils.script import Script"
      ],
      "metadata": {
        "id": "kn6FumBGVZbk"
      },
      "execution_count": 3,
      "outputs": []
    },
    {
      "cell_type": "code",
      "source": [
        "# create transaction input from tx id of UTXO\n",
        "txin = TxInput(\n",
        "    \"cc7fa05421d61b7a8948cc0e1115b15f2b8692f3fbec11d5b0ead711343d8c01\", 0\n",
        ")\n",
        "\n",
        "# create a transaction output to the generated address\n",
        "to_addr = P2pkhAddress(\"mtEKiuN1sf5sENSsCHcfAdQhJXsUxGj1vr\")\n",
        "txout = TxOutput(\n",
        "        to_satoshis(0.001),\n",
        "        Script(\n",
        "            [\"OP_DUP\", \"OP_HASH160\", to_addr.to_hash160(), \"OP_EQUALVERIFY\", \"OP_CHECKSIG\"]\n",
        "        ),\n",
        "    )\n",
        "# create the transaction\n",
        "tx = Transaction([txin], [txout])\n",
        "print(\"\\nRaw unsigned transaction:\\n\" + tx.serialize())\n",
        "\n",
        "# Sign the transaction\n",
        "sig = private_key.sign_input(tx,0,address.to_script_pub_key())\n",
        "txin.script_sig = Script([sig, public_key.to_hex()])\n",
        "signed_tx = tx.serialize()\n",
        "\n",
        "print(\"\\nSigned transaction:\\n\", signed_tx)"
      ],
      "metadata": {
        "colab": {
          "base_uri": "https://localhost:8080/"
        },
        "id": "8TLYl4QBwT8H",
        "outputId": "b37790a5-e9e6-47d8-e409-e77c91ebb59d"
      },
      "execution_count": null,
      "outputs": [
        {
          "output_type": "stream",
          "name": "stdout",
          "text": [
            "\n",
            "Raw unsigned transaction:\n",
            "0200000001018c3d3411d7eab0d511ecfbf392862b5fb115110ecc48897a1bd62154a07fcc0000000000ffffffff01a0860100000000001976a9148b74738efe6d0d27656e584370aaebf13df1d68488ac00000000\n",
            "\n",
            "Signed transaction:\n",
            " 0200000001018c3d3411d7eab0d511ecfbf392862b5fb115110ecc48897a1bd62154a07fcc000000006a47304402202160a28e6f879d23a045fad6ab2a4016fc897449a2655b9ca45b050de219e81d02203f1fdcd9de55377a96bdc6ade157d1a509b4bab7f7fe9b05e6becd085db8c8cc0121032f0d9e099d17b67c4bf4aaf4704ab99693177d26c7e4c598705e442836340327ffffffff01a0860100000000001976a9148b74738efe6d0d27656e584370aaebf13df1d68488ac00000000\n"
          ]
        }
      ]
    },
    {
      "cell_type": "markdown",
      "source": [
        "# Task 2: Multisignature transaction\n",
        "\n",
        "- The sender's address:\n",
        "  - Private Key 1: cNQhoYBf1Cz9ajftiNLpG79s6bU6u3Kkr57vKWE389ybZaiS9B8c\n",
        "  - Private Key 2: cSXUbRHVAKkgF9dtdSUdGQq6rFukRnk5T2Rsgz6uchofy2uyRJYC\n",
        "  - Redeem Script: 5221038caddaf41718b22f3f3abb87135bad994ed87f68816ad6d62e6a08c85d80ed3c210222a9bdbe0dc6f7ed6f2912f828b73d23edc86c070b3e66fa22cc192d5367942252ae\n",
        "  - Multisig Address: 2ND1NiSbEeep4cSagVBUb5H7z6D11Rxiyoi\n",
        "\n",
        "- The recipient's address:\n",
        "  - Private key: cTcXHR9mpY3Yh1XwQaGrrFRRpYR1XqPGNTb2PjMpPQ84kkafLyRN\n",
        "  - Public key: 032f0d9e099d17b67c4bf4aaf4704ab99693177d26c7e4c598705e442836340327\n",
        "  - Bitcoin address: mr3q9zULfWJktFDZMgpkTCa5ra9vJDdcJ4\n",
        "\n",
        "- The previous transaction identifier (txid): fe69cd5bffdfaed5a969428d774abdd3249c7f27c0ca494e5d511ccd92e19db2"
      ],
      "metadata": {
        "id": "5rndKU7zKZYC"
      }
    },
    {
      "cell_type": "code",
      "source": [
        "from bitcoinutils.script import Script\n",
        "from bitcoinutils.keys import P2shAddress, PrivateKey"
      ],
      "metadata": {
        "id": "pzDvolxP6THE"
      },
      "execution_count": 4,
      "outputs": []
    },
    {
      "cell_type": "code",
      "source": [
        "#setup the network\n",
        "setup('testnet')\n",
        "\n",
        "# Generate two random private keys\n",
        "#private_key1 = PrivateKey.from_bytes(os.urandom(32))\n",
        "#private_key2 = PrivateKey.from_bytes(os.urandom(32))\n",
        "private_key1 = PrivateKey.from_wif(\"cNQhoYBf1Cz9ajftiNLpG79s6bU6u3Kkr57vKWE389ybZaiS9B8c\")\n",
        "private_key2 = PrivateKey.from_wif(\"cSXUbRHVAKkgF9dtdSUdGQq6rFukRnk5T2Rsgz6uchofy2uyRJYC\")\n",
        "\n",
        "# Derive the public keys\n",
        "public_key1 = private_key1.get_public_key()\n",
        "public_key2 = private_key2.get_public_key()\n",
        "\n",
        "# Create a 2-of-2 multisig redeem script\n",
        "redeem_script = Script([\"OP_2\", public_key1.to_hex(), public_key2.to_hex(), \"OP_2\", \"OP_CHECKMULTISIG\"])\n",
        "\n",
        "# Create a P2SH address from the redeem script\n",
        "address = P2shAddress.from_script(redeem_script)\n",
        "\n",
        "# print address and hash160\n",
        "print(\"Private Key 1:\", private_key1.to_wif())\n",
        "print(\"Private Key 2:\", private_key2.to_wif())\n",
        "print(\"Redeem Script:\", redeem_script.to_hex())\n",
        "print(\"Multisig Address:\", address.to_string())"
      ],
      "metadata": {
        "colab": {
          "base_uri": "https://localhost:8080/"
        },
        "id": "Mwyb1XHI6iWO",
        "outputId": "81fb3564-ad74-40ca-ed14-d9f4e27b6f37"
      },
      "execution_count": 5,
      "outputs": [
        {
          "output_type": "stream",
          "name": "stdout",
          "text": [
            "Private Key 1: cNQhoYBf1Cz9ajftiNLpG79s6bU6u3Kkr57vKWE389ybZaiS9B8c\n",
            "Private Key 2: cSXUbRHVAKkgF9dtdSUdGQq6rFukRnk5T2Rsgz6uchofy2uyRJYC\n",
            "Redeem Script: 5221038caddaf41718b22f3f3abb87135bad994ed87f68816ad6d62e6a08c85d80ed3c210222a9bdbe0dc6f7ed6f2912f828b73d23edc86c070b3e66fa22cc192d5367942252ae\n",
            "Multisig Address: 2ND1NiSbEeep4cSagVBUb5H7z6D11Rxiyoi\n"
          ]
        }
      ]
    },
    {
      "cell_type": "code",
      "source": [
        "# create transaction input from txid of UTXO\n",
        "txin = TxInput(\n",
        "    \"fe69cd5bffdfaed5a969428d774abdd3249c7f27c0ca494e5d511ccd92e19db2\", 0\n",
        ")\n",
        "\n",
        "# create a transaction output to the generated address\n",
        "to_addr = PrivateKey.from_wif(\"cTcXHR9mpY3Yh1XwQaGrrFRRpYR1XqPGNTb2PjMpPQ84kkafLyRN\").get_public_key().get_address()\n",
        "txout = TxOutput(\n",
        "        to_satoshis(0.001),\n",
        "        Script([\"OP_DUP\", \"OP_HASH160\", to_addr.to_hash160(), \"OP_EQUALVERIFY\", \"OP_CHECKSIG\"]),\n",
        "    )\n",
        "\n",
        "# create the transaction\n",
        "tx = Transaction([txin], [txout])\n",
        "print(\"\\nRaw unsigned transaction:\\n\" + tx.serialize())\n",
        "\n",
        "# Sign the transaction\n",
        "print(private_key1.to_wif())\n",
        "sig1 = private_key1.sign_input(tx,0,redeem_script)\n",
        "sig2 = private_key2.sign_input(tx,0,redeem_script)\n",
        "\n",
        "txin.script_sig = Script([\"OP_0\", sig1, sig2, redeem_script.to_hex()])\n",
        "signed_tx = tx.serialize()\n",
        "\n",
        "print(\"\\nSigned transaction:\\n\", signed_tx)"
      ],
      "metadata": {
        "colab": {
          "base_uri": "https://localhost:8080/"
        },
        "id": "H5k6XV6Z-_ud",
        "outputId": "8df96017-c5ec-41ea-98c3-b77d0e32eaa4"
      },
      "execution_count": 8,
      "outputs": [
        {
          "output_type": "stream",
          "name": "stdout",
          "text": [
            "\n",
            "Raw unsigned transaction:\n",
            "0200000001b29de192cd1c515d4e49cac0277f9c24d3bd4a778d4269a9d5aedfff5bcd69fe0000000000ffffffff01a0860100000000001976a9147388317cdde2c6629eb7234e171ac67b5ef4960f88ac00000000\n",
            "cNQhoYBf1Cz9ajftiNLpG79s6bU6u3Kkr57vKWE389ybZaiS9B8c\n",
            "\n",
            "Signed transaction:\n",
            " 0200000001b29de192cd1c515d4e49cac0277f9c24d3bd4a778d4269a9d5aedfff5bcd69fe00000000d900473044022013d51caed0da4cfd481a40d7fb8b585e15844cb169181802b9ea49c1d363680c02207637936ef31f11eae28d2552afd618bc660b81c6b8dca1cdbf244c0f7fe4ad5d0147304402206b057673d4dfeb9a96a710070b889eba319276b2550a4854166fdfb8513930f902205741fc17ab0ec39f8edd85fc9293a7a2c95df8bb1946a158a2b73b4e66107ec101475221038caddaf41718b22f3f3abb87135bad994ed87f68816ad6d62e6a08c85d80ed3c210222a9bdbe0dc6f7ed6f2912f828b73d23edc86c070b3e66fa22cc192d5367942252aeffffffff01a0860100000000001976a9147388317cdde2c6629eb7234e171ac67b5ef4960f88ac00000000\n"
          ]
        }
      ]
    }
  ]
}